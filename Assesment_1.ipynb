{
  "nbformat": 4,
  "nbformat_minor": 0,
  "metadata": {
    "colab": {
      "provenance": []
    },
    "kernelspec": {
      "name": "python3",
      "display_name": "Python 3"
    },
    "language_info": {
      "name": "python"
    }
  },
  "cells": [
    {
      "cell_type": "markdown",
      "source": [],
      "metadata": {
        "id": "F6i4rqxcRSuj"
      }
    },
    {
      "cell_type": "markdown",
      "source": [
        "# Assesement-Indushree Revankar"
      ],
      "metadata": {
        "id": "QiH9rGuwWIQd"
      }
    },
    {
      "cell_type": "markdown",
      "source": [
        "#1.What is the difference between a function and a method in Python?\n",
        " - A function is a standalone block of code that performs a specific task.\n",
        " - It is defined using the def keyword.\n",
        "\n"
      ],
      "metadata": {
        "id": "vVqNUD0AYnCb"
      }
    },
    {
      "cell_type": "code",
      "source": [
        "def add_numbers(a, b):\n",
        "    return a + b\n",
        "\n",
        "result = add_numbers(3, 5)\n",
        "print(result)\n"
      ],
      "metadata": {
        "id": "nVFwm-0tcGie"
      },
      "execution_count": null,
      "outputs": []
    },
    {
      "cell_type": "markdown",
      "source": [
        "  - A method is a function that belongs to an object (usually an instance of a class).\n",
        "\n",
        "  - It is defined within a class."
      ],
      "metadata": {
        "id": "EYUGXO3RciT6"
      }
    },
    {
      "cell_type": "code",
      "source": [
        "class Person:\n",
        "    def __init__(self, name): self.name = name\n",
        "    def greet(self): return f\"Hello, {self.name}!\"\n",
        "\n",
        "p = Person(\"Alice\")\n",
        "print(p.greet())\n"
      ],
      "metadata": {
        "id": "SIx76--OdAaE"
      },
      "execution_count": null,
      "outputs": []
    },
    {
      "cell_type": "markdown",
      "source": [
        "#2.Explain the concept of function arguments and parameters in Python\n",
        " - Parameters are the variables listed inside the parentheses in a function definition. They act as placeholders for the values that the function will receive when called.\n",
        " - Arguments are the actual values passed to the function when it is invoked.\n",
        ""
      ],
      "metadata": {
        "id": "-ei4uPAcdctG"
      }
    },
    {
      "cell_type": "code",
      "source": [
        "def greet(name):  # 'name' is a parameter\n",
        "    print(f\"Hello, {name}!\")\n",
        "\n",
        "greet(\"Alice\")  # \"Alice\" is an argument\n"
      ],
      "metadata": {
        "id": "cxyLAdytepqa"
      },
      "execution_count": null,
      "outputs": []
    },
    {
      "cell_type": "markdown",
      "source": [
        "#3.What are the different ways to define and call a function in Python?\n",
        " - Basic Function – A simple function with no parameters.\n",
        ""
      ],
      "metadata": {
        "id": "mUur-g9Le4Mk"
      }
    },
    {
      "cell_type": "code",
      "source": [
        "def greet():\n",
        "    print(\"Hello!\")\n",
        "\n",
        "greet()\n"
      ],
      "metadata": {
        "id": "PPzzaL3Sfyz0"
      },
      "execution_count": null,
      "outputs": []
    },
    {
      "cell_type": "markdown",
      "source": [
        " - Function with Parameters – Takes input values."
      ],
      "metadata": {
        "id": "91toc5BOgC2J"
      }
    },
    {
      "cell_type": "code",
      "source": [
        "def greet(name):\n",
        "    print(f\"Hello, {name}!\")\n",
        "\n",
        "greet(\"Alice\")\n"
      ],
      "metadata": {
        "id": "S0l9t25SgLOE"
      },
      "execution_count": null,
      "outputs": []
    },
    {
      "cell_type": "markdown",
      "source": [
        " - Function with Return Value – Returns a result."
      ],
      "metadata": {
        "id": "Az4Ek9l1gVaP"
      }
    },
    {
      "cell_type": "markdown",
      "source": [
        "def add(a, b):\n",
        "    return a + b\n",
        "\n",
        "print(add(3, 5))\n"
      ],
      "metadata": {
        "id": "fa91xbtugh7I"
      }
    },
    {
      "cell_type": "markdown",
      "source": [
        " - Function with Default Parameters – Uses default values if no argument is given."
      ],
      "metadata": {
        "id": "iu4kC0H-gs-b"
      }
    },
    {
      "cell_type": "markdown",
      "source": [],
      "metadata": {
        "id": "s6-nnEGXgoMt"
      }
    },
    {
      "cell_type": "code",
      "source": [
        "def greet(name=\"Guest\"):\n",
        "    print(f\"Hello, {name}!\")\n",
        "\n",
        "greet()\n"
      ],
      "metadata": {
        "id": "cJ7d_wOCg7Ie"
      },
      "execution_count": null,
      "outputs": []
    },
    {
      "cell_type": "markdown",
      "source": [
        "#4. What is the purpose of the `return` statement in a Python function?\n",
        " - In Python, the return statement is used to exit a function and send a value back to the caller. It allows a function to produce an output that can be assigned to variables, used in expressions, or passed as arguments to other functions."
      ],
      "metadata": {
        "id": "6QPaBBgqhCiv"
      }
    },
    {
      "cell_type": "code",
      "source": [
        "def add(a, b):\n",
        "    return a + b  # Returns the sum of a and b\n",
        "\n",
        "result = add(3, 5)\n",
        "print(result)  # Output: 8\n"
      ],
      "metadata": {
        "id": "Rzi8ROLxhp2P"
      },
      "execution_count": null,
      "outputs": []
    },
    {
      "cell_type": "markdown",
      "source": [
        "#5.What are iterators in Python and how do they differ from iterables?\n",
        " - An iterator in Python is an object that implements the __iter__() and __next__() methods. It is used to traverse through elements one at a time, without storing them in memory. Iterators are consumed once and do not support indexing.\n",
        " - An iterable is any object that can return an iterator using the iter() function. It contains multiple elements and allows iteration using loops like for. Examples of iterables include lists, tuples, dictionaries, and strings."
      ],
      "metadata": {
        "id": "sMLKq6eGhzZ9"
      }
    },
    {
      "cell_type": "code",
      "source": [
        "# Iterable (list)\n",
        "numbers = [1, 2, 3]\n",
        "it = iter(numbers)\n",
        "\n",
        "print(next(it))\n",
        "print(next(it))\n",
        "print(next(it))\n"
      ],
      "metadata": {
        "id": "WA7VDb3HiVMu"
      },
      "execution_count": null,
      "outputs": []
    },
    {
      "cell_type": "markdown",
      "source": [
        " - Here, numbers is an iterable, while it is an iterator."
      ],
      "metadata": {
        "id": "b5mKX9Iyinf8"
      }
    },
    {
      "cell_type": "markdown",
      "source": [
        "#6.Explain the concept of generators in Python and how they are defined.\n",
        " - A generator in Python is a special type of iterator that allows lazy evaluation, meaning it generates values on the fly instead of storing them in memory. Generators are useful for handling large datasets efficiently.\n",
        " - Generators are defined using functions with the yield keyword instead of return. The function pauses at yield and resumes execution when next() is called.\n",
        ""
      ],
      "metadata": {
        "id": "52pgTNv3iwzg"
      }
    },
    {
      "cell_type": "code",
      "source": [
        "def count_up_to(n):\n",
        "    count = 1\n",
        "    while count <= n:\n",
        "        yield count  # Returns value and pauses\n",
        "        count += 1\n",
        "\n",
        "gen = count_up_to(3)\n",
        "print(next(gen))  # Output: 1\n",
        "print(next(gen))  # Output: 2\n",
        "print(next(gen))  # Output: 3\n"
      ],
      "metadata": {
        "id": "1qlUG6vFjRA8"
      },
      "execution_count": null,
      "outputs": []
    },
    {
      "cell_type": "markdown",
      "source": [
        "#7.What are the advantages of using generators over regular functions?\n",
        "\n",
        " - Memory Efficiency – Generators yield values one at a time, avoiding memory overload, unlike regular functions that return entire lists.\n",
        " - Lazy Evaluation – Values are generated on demand, making them ideal for handling large datasets efficiently.\n",
        " - Improved Performance – Since generators do not store all values in memory, they execute faster than regular functions returning lists.\n",
        " - State Retention – Generators pause and resume execution using yield, preserving their state between calls."
      ],
      "metadata": {
        "id": "SD3cc603jed7"
      }
    },
    {
      "cell_type": "code",
      "source": [
        "def count_up_to(n):\n",
        "    count = 1\n",
        "    while count <= n:\n",
        "        yield count  # Generates one value at a time\n",
        "        count += 1\n",
        "\n",
        "gen = count_up_to(3)\n",
        "print(next(gen))  # Output: 1\n",
        "print(next(gen))  # Output: 2\n",
        "print(next(gen))  # Output: 3\n"
      ],
      "metadata": {
        "id": "9cGS6b7DkBvP"
      },
      "execution_count": null,
      "outputs": []
    },
    {
      "cell_type": "markdown",
      "source": [
        "#8.What is a lambda function in Python and when is it typically used?\n",
        " - A lambda function is an anonymous (nameless) function in Python, defined using the lambda keyword. It can have any number of arguments but only one expression, which is evaluated and returned.\n",
        " - Lambda functions are used when a small, one-time, or inline function is needed without defining a full function using def.\n"
      ],
      "metadata": {
        "id": "eAfjoMXIkIO4"
      }
    },
    {
      "cell_type": "code",
      "source": [
        "nums = [1, 2, 3, 4]\n",
        "squared = list(map(lambda x: x**2, nums))\n",
        "print(squared)  # Output: [1, 4, 9, 16]\n"
      ],
      "metadata": {
        "id": "A_zrBNazlDMS"
      },
      "execution_count": null,
      "outputs": []
    },
    {
      "cell_type": "markdown",
      "source": [
        "#9.Explain the purpose and usage of the `map()` function in Python.\n",
        " - The map() function in Python is used to apply a function to every element of an iterable (such as a list or tuple) and returns an iterator with the results. It is commonly used for data transformation without needing explicit loops."
      ],
      "metadata": {
        "id": "ywmZjns8lSXY"
      }
    },
    {
      "cell_type": "code",
      "source": [
        "nums = [1, 2, 3, 4]\n",
        "squared = list(map(lambda x: x**2, nums))\n",
        "print(squared)  # Output: [1, 4, 9, 16]\n"
      ],
      "metadata": {
        "id": "6OqC0AJylu8G"
      },
      "execution_count": null,
      "outputs": []
    },
    {
      "cell_type": "markdown",
      "source": [
        "#10.What is the difference between `map()`, `reduce()`, and `filter()` functions in Python?\n",
        " - map() – Transformation Function\n",
        " - Purpose: Applies a function to each element of an iterable.\n",
        "\n",
        " -  Returns: An iterator containing transformed elements.\n",
        "\n",
        " - Use Case: When you need to modify all elements of a list or iterable.\n",
        ""
      ],
      "metadata": {
        "id": "pC-MUJbAl0a8"
      }
    },
    {
      "cell_type": "code",
      "source": [
        "nums = [1, 2, 3, 4]\n",
        "squared = list(map(lambda x: x**2, nums))\n",
        "print(squared)  # Output: [1, 4, 9, 16]\n"
      ],
      "metadata": {
        "id": "0TBYQd32m_Mf"
      },
      "execution_count": null,
      "outputs": []
    },
    {
      "cell_type": "markdown",
      "source": [
        " - filter() – Selection Function\n",
        " - Purpose: Filters elements based on a condition (Boolean function).\n",
        "\n",
        " - Returns: An iterator containing elements that satisfy the condition.\n",
        "\n",
        " - Use Case: When you need to keep only specific elements from an iterable."
      ],
      "metadata": {
        "id": "zZAWqAQznR0k"
      }
    },
    {
      "cell_type": "code",
      "source": [
        "nums = [1, 2, 3, 4, 5]\n",
        "evens = list(filter(lambda x: x % 2 == 0, nums))\n",
        "print(evens)  # Output: [2, 4]\n"
      ],
      "metadata": {
        "id": "7FfkH_YAnmia"
      },
      "execution_count": null,
      "outputs": []
    },
    {
      "cell_type": "markdown",
      "source": [
        " - reduce() – Aggregation Function\n",
        " - Purpose: Applies a function cumulatively to reduce an iterable to a single value.\n",
        "\n",
        " - Returns: A single computed result.\n",
        "\n",
        " - Use Case: When you need to compute a single aggregated value from an iterable."
      ],
      "metadata": {
        "id": "wAgHIjFNbZLF"
      }
    },
    {
      "cell_type": "code",
      "source": [
        "from functools import reduce\n",
        "nums = [1, 2, 3, 4]\n",
        "product = reduce(lambda x, y: x * y, nums)\n",
        "print(product)  # Output: 24\n"
      ],
      "metadata": {
        "id": "ML-gTk2Wn_Re"
      },
      "execution_count": null,
      "outputs": []
    },
    {
      "cell_type": "markdown",
      "source": [
        "#11.Using pen & Paper write the internal mechanism for sum operation using  reduce function on this given list:[47,11,42,13];\n"
      ],
      "metadata": {
        "id": "Bz2I9upOoMPA"
      }
    },
    {
      "cell_type": "code",
      "source": [
        "from functools import reduce\n",
        "\n",
        "result = reduce(lambda x, y: x + y, [47, 11, 42, 13])\n",
        "print(result)  # Output: 113\n"
      ],
      "metadata": {
        "colab": {
          "base_uri": "https://localhost:8080/"
        },
        "id": "BlDIexTFpQXe",
        "outputId": "8a3352e6-1066-447c-fe34-57615e1b7bcb"
      },
      "execution_count": 3,
      "outputs": [
        {
          "output_type": "stream",
          "name": "stdout",
          "text": [
            "113\n"
          ]
        }
      ]
    },
    {
      "cell_type": "markdown",
      "source": [
        " - First Iteration: (47 + 11) = 58\n",
        " - Second Iteration: (58 + 42) = 100\n",
        " - Third Iteration: (100 + 13) = 113\n",
        "\n"
      ],
      "metadata": {
        "id": "L1FUrNubpVM6"
      }
    },
    {
      "cell_type": "markdown",
      "source": [
        "# Practical Questions"
      ],
      "metadata": {
        "id": "lXX04NZYqBlY"
      }
    },
    {
      "cell_type": "markdown",
      "source": [
        "#1. Write a Python function that takes a list of numbers as input and returns the sum of all even numbers in the list.\n"
      ],
      "metadata": {
        "id": "UWauH2BKqc0J"
      }
    },
    {
      "cell_type": "code",
      "source": [
        "def sum_even_numbers(numbers):\n",
        "    return sum(filter(lambda x: x % 2 == 0, numbers))\n",
        "\n",
        "# Example usage:\n",
        "nums = [1, 2, 3, 4, 5, 6, 7, 8]\n",
        "result = sum_even_numbers(nums)\n",
        "print(result)  # Output: 20\n"
      ],
      "metadata": {
        "colab": {
          "base_uri": "https://localhost:8080/"
        },
        "id": "L4gu2DHqq2Nl",
        "outputId": "bcba6caa-253a-4b2c-b80a-64f76dc5b80f"
      },
      "execution_count": 4,
      "outputs": [
        {
          "output_type": "stream",
          "name": "stdout",
          "text": [
            "20\n"
          ]
        }
      ]
    },
    {
      "cell_type": "markdown",
      "source": [
        "#2.Create a Python function that accepts a string and returns the reverse of that string."
      ],
      "metadata": {
        "id": "v2HM1XrFq8_f"
      }
    },
    {
      "cell_type": "code",
      "source": [
        "def reverse_string(s):\n",
        "    return s[::-1]  # Using slicing to reverse the string\n",
        "\n",
        "# Example usage:\n",
        "text = \"hello\"\n",
        "result = reverse_string(text)\n",
        "print(result)  # Output: \"olleh\"\n"
      ],
      "metadata": {
        "colab": {
          "base_uri": "https://localhost:8080/"
        },
        "id": "6I-mQiwYrGC2",
        "outputId": "ce9f31d2-4415-455a-b798-c60d64ae72c5"
      },
      "execution_count": 5,
      "outputs": [
        {
          "output_type": "stream",
          "name": "stdout",
          "text": [
            "olleh\n"
          ]
        }
      ]
    },
    {
      "cell_type": "markdown",
      "source": [
        "#3. Implement a Python function that takes a list of integers and returns a new list containing the squares of each number.\n"
      ],
      "metadata": {
        "id": "An_qBm9urOir"
      }
    },
    {
      "cell_type": "code",
      "source": [
        "def square_numbers(numbers):\n",
        "    return list(map(lambda x: x**2, numbers))\n",
        "\n",
        "# Example usage:\n",
        "nums = [1, 2, 3, 4, 5]\n",
        "result = square_numbers(nums)\n",
        "print(result)  # Output: [1, 4, 9, 16, 25]\n"
      ],
      "metadata": {
        "colab": {
          "base_uri": "https://localhost:8080/"
        },
        "id": "wwUaFGl1rfvz",
        "outputId": "d552c143-ffe9-42ec-aa7d-76d82acdf5cc"
      },
      "execution_count": 6,
      "outputs": [
        {
          "output_type": "stream",
          "name": "stdout",
          "text": [
            "[1, 4, 9, 16, 25]\n"
          ]
        }
      ]
    },
    {
      "cell_type": "markdown",
      "source": [
        "#4.Write a Python function that checks if a given number is prime or not from 1 to 200.\n"
      ],
      "metadata": {
        "id": "7wM-b56lrs5L"
      }
    },
    {
      "cell_type": "code",
      "source": [
        "def is_prime(n):\n",
        "    if n < 2:\n",
        "        return False\n",
        "    for i in range(2, int(n ** 0.5) + 1):\n",
        "        if n % i == 0:\n",
        "            return False\n",
        "    return True\n",
        "\n",
        "# Check prime numbers from 1 to 200\n",
        "primes = [num for num in range(1, 201) if is_prime(num)]\n",
        "print(primes)\n"
      ],
      "metadata": {
        "colab": {
          "base_uri": "https://localhost:8080/"
        },
        "id": "PjiWF3kHr1Sx",
        "outputId": "3999ce29-f6d2-4b56-f121-ee649064497b"
      },
      "execution_count": 7,
      "outputs": [
        {
          "output_type": "stream",
          "name": "stdout",
          "text": [
            "[2, 3, 5, 7, 11, 13, 17, 19, 23, 29, 31, 37, 41, 43, 47, 53, 59, 61, 67, 71, 73, 79, 83, 89, 97, 101, 103, 107, 109, 113, 127, 131, 137, 139, 149, 151, 157, 163, 167, 173, 179, 181, 191, 193, 197, 199]\n"
          ]
        }
      ]
    },
    {
      "cell_type": "markdown",
      "source": [
        "#5.Create an iterator class in Python that generates the Fibonacci sequence up to a specified number of terms."
      ],
      "metadata": {
        "id": "tQSr4Lnfr_t4"
      }
    },
    {
      "cell_type": "code",
      "source": [
        "class FibonacciIterator:\n",
        "    def __init__(self, n_terms):\n",
        "        self.n_terms = n_terms  # Total number of terms\n",
        "        self.count = 0          # Counter to track current position\n",
        "        self.a, self.b = 0, 1   # Starting values for the Fibonacci sequence\n",
        "\n",
        "    def __iter__(self):\n",
        "        return self  # Returns the iterator object\n",
        "\n",
        "    def __next__(self):\n",
        "        if self.count >= self.n_terms:\n",
        "            raise StopIteration  # Stops iteration when limit is reached\n",
        "        if self.count == 0:\n",
        "            self.count += 1\n",
        "            return self.a\n",
        "        elif self.count == 1:\n",
        "            self.count += 1\n",
        "            return self.b\n",
        "        else:\n",
        "            self.a, self.b = self.b, self.a + self.b\n",
        "            self.count += 1\n",
        "            return self.b\n"
      ],
      "metadata": {
        "id": "Kh2ABs9ZsIEO"
      },
      "execution_count": null,
      "outputs": []
    },
    {
      "cell_type": "markdown",
      "source": [
        "#6.Write a generator function in Python that yields the powers of 2 up to a given exponent."
      ],
      "metadata": {
        "id": "W6sCEQbKs5rv"
      }
    },
    {
      "cell_type": "code",
      "source": [
        "def powers_of_two(max_exp):\n",
        "    for i in range(max_exp + 1):\n",
        "        yield 2 ** i\n"
      ],
      "metadata": {
        "id": "St_E9wuatJ3_"
      },
      "execution_count": null,
      "outputs": []
    },
    {
      "cell_type": "markdown",
      "source": [
        "#7. Implement a generator function that reads a file line by line and yields each line as a string."
      ],
      "metadata": {
        "id": "DP0tBs_9tPHr"
      }
    },
    {
      "cell_type": "code",
      "source": [
        "def read_file_line_by_line(filename):\n",
        "    with open(filename, 'r') as file:\n",
        "        for line in file:\n",
        "            yield line.strip()  # Yield each line without trailing newline\n"
      ],
      "metadata": {
        "id": "Vnai9VXotWtk"
      },
      "execution_count": null,
      "outputs": []
    },
    {
      "cell_type": "markdown",
      "source": [
        "#8.Use a lambda function in Python to sort a list of tuples based on the second element of each tuple."
      ],
      "metadata": {
        "id": "lXNzNO8oti6h"
      }
    },
    {
      "cell_type": "code",
      "source": [
        "# List of tuples\n",
        "data = [(1, 5), (3, 2), (4, 8), (2, 1)]\n",
        "\n",
        "# Sorting based on the second element of each tuple\n",
        "sorted_data = sorted(data, key=lambda x: x[1])\n",
        "\n",
        "print(sorted_data)\n"
      ],
      "metadata": {
        "colab": {
          "base_uri": "https://localhost:8080/"
        },
        "id": "s9Enl20strGp",
        "outputId": "b0843508-6c52-4869-c54e-479c7912b913"
      },
      "execution_count": 9,
      "outputs": [
        {
          "output_type": "stream",
          "name": "stdout",
          "text": [
            "[(2, 1), (3, 2), (1, 5), (4, 8)]\n"
          ]
        }
      ]
    },
    {
      "cell_type": "markdown",
      "source": [
        "#9.Write a Python program that uses `map()` to convert a list of temperatures from Celsius to Fahrenheit."
      ],
      "metadata": {
        "id": "UnqfuYeQt2Bx"
      }
    },
    {
      "cell_type": "code",
      "source": [
        "# Function to convert Celsius to Fahrenheit\n",
        "def celsius_to_fahrenheit(celsius):\n",
        "    return (celsius * 9/5) + 32\n",
        "\n",
        "# List of temperatures in Celsius\n",
        "celsius_temps = [0, 10, 20, 30, 40, 100]\n",
        "\n",
        "# Convert using map()\n",
        "fahrenheit_temps = list(map(celsius_to_fahrenheit, celsius_temps))\n",
        "\n",
        "# Output the results\n",
        "print(fahrenheit_temps)\n"
      ],
      "metadata": {
        "colab": {
          "base_uri": "https://localhost:8080/"
        },
        "id": "nPx5Umvlt8U4",
        "outputId": "e1e1f68f-9b20-4491-c207-017714b04758"
      },
      "execution_count": 10,
      "outputs": [
        {
          "output_type": "stream",
          "name": "stdout",
          "text": [
            "[32.0, 50.0, 68.0, 86.0, 104.0, 212.0]\n"
          ]
        }
      ]
    },
    {
      "cell_type": "markdown",
      "source": [
        "#10.Create a Python program that uses `filter()` to remove all the vowels from a given string."
      ],
      "metadata": {
        "id": "VWPBkbDAuLJO"
      }
    },
    {
      "cell_type": "code",
      "source": [
        "def remove_vowels(s):\n",
        "    vowels = \"aeiouAEIOU\"\n",
        "    return ''.join(filter(lambda char: char not in vowels, s))\n",
        "\n",
        "# Example usage\n",
        "text = \"Hello, how are you?\"\n",
        "result = remove_vowels(text)\n",
        "print(result)  # Output: \"Hll, hw r y?\"\n"
      ],
      "metadata": {
        "colab": {
          "base_uri": "https://localhost:8080/"
        },
        "id": "QeRPdCwOueJC",
        "outputId": "349f172a-aba5-4486-b2a4-970c15e3c59f"
      },
      "execution_count": 11,
      "outputs": [
        {
          "output_type": "stream",
          "name": "stdout",
          "text": [
            "Hll, hw r y?\n"
          ]
        }
      ]
    }
  ]
}